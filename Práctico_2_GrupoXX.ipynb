{
 "cells": [
  {
   "cell_type": "markdown",
   "metadata": {},
   "source": [
    "# ANALISIS CARTERA MERCADO Y SCORING CREDITICIO"
   ]
  },
  {
   "cell_type": "markdown",
   "metadata": {},
   "source": [
    "## 1.Preparación de Features para Modelo de Machine Learning Supervisado"
   ]
  },
  {
   "cell_type": "markdown",
   "metadata": {},
   "source": [
    "Vamos a estudiar los clientes de la institución 55311. Para ello vamos a agrupar toda la información de todas las instituciones que hayan reportado actividad sobre cada uno de los cuits presentes en la base de datos.\n"
   ]
  },
  {
   "cell_type": "markdown",
   "metadata": {},
   "source": [
    "Tareas:\n",
    "\n",
    "1. Construir una nueva base de datos con los clientes que tienen información en 55311. Sólo personas físicas.\n",
    "\n",
    "2. Estudiar un muestreo de 20 cuits que más presencia tengan en varias instituciones (ver presentación pdf)\n",
    "\n",
    "2.1 Representar los datos de cada cuit de forma de entender la evolucion de las situaciones por cada institución\n",
    "\n",
    "2.2 Representar los datos de cada cuit de forma de entender los montos de deuda con cada institución.\n",
    "\n",
    "2.3 PReparar un PDF comparando los comportamientos de estos deudores que poseen alto nivel de presencia contra\n",
    "aquellos que tienen solo presencia en 55311\n",
    "\n",
    "3. Definir un periodo razonable para predecir el comportamiento, basado en la muestra anterior del punto 2 \n",
    "y un período de ventana para predecir el default en cualquier institución o en la institución 55311 .\n",
    "\n",
    "4. Crear al menos 20 features para cada cuit teniendo en cuenta:\n",
    "        máxima situación para un período atrás en el tiempo\n",
    "        suma de total de situaciones\n",
    "        pendiente de variacion de las situaciones y montos\n",
    "        cantidad de instituciones en las cuales habia deuda\n",
    "        monto total de deuda \n",
    "        cantidad de instituciones banco con deuda\n",
    "        cantidad de otras instituciones con deuda\n",
    "        etc.\n",
    "        \n",
    "5. Entregable:\n",
    "Un data-frame que teng por cada cuit en la institución 55311 información de todos los features determinados."
   ]
  },
  {
   "cell_type": "code",
   "execution_count": null,
   "metadata": {},
   "outputs": [],
   "source": []
  }
 ],
 "metadata": {
  "kernelspec": {
   "display_name": "Python 3",
   "language": "python",
   "name": "python3"
  },
  "language_info": {
   "codemirror_mode": {
    "name": "ipython",
    "version": 3
   },
   "file_extension": ".py",
   "mimetype": "text/x-python",
   "name": "python",
   "nbconvert_exporter": "python",
   "pygments_lexer": "ipython3",
   "version": "3.8.10"
  }
 },
 "nbformat": 4,
 "nbformat_minor": 4
}
