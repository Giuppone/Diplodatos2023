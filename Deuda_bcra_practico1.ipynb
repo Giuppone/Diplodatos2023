{
 "cells": [
  {
   "cell_type": "markdown",
   "metadata": {
    "id": "HEHx-Yg4sJa7"
   },
   "source": [
    "# ANALISIS CARTERA MERCADO Y SCORING CREDITICIO\n",
    "Dr. Cristian Giuppone, https://www.linkedin.com/in/cristian-giuppone/ "
   ]
  },
  {
   "cell_type": "markdown",
   "metadata": {
    "id": "7MI6Qx0KsJa9",
    "tags": []
   },
   "source": [
    "## 1. INTRODUCCION"
   ]
  },
  {
   "cell_type": "markdown",
   "metadata": {
    "id": "-d8PDHyXsJa-"
   },
   "source": [
    "Análisis de los deudores en Argentina: \n",
    "Nuestro objetivo es analizar la estructura del endeudamiento del sistema financiero argentino y construir un score para establecer cuando una persona es propensa a entrar en default. Para lograr esto, utilizaremos la base de datos CENDEU del Banco Central de la República Argentina (BCRA), la cual cuenta con información actualizada sobre financiamientos otorgados por entidades financieras, fideicomisos financieros, emisores no financieros de tarjetas de crédito y compra, otros proveedores no financieros de crédito, sociedades de garantía recíproca y fondos de garantía de carácter público. La base de datos se encuentra detallada por CUIT.\n",
    "\n",
    "Para comprender rápidamente la composición de nuestra base de datos, es posible acceder al hipervínculo CENDEU e ingresar su CUIT en la página web. De esta forma, se podrá acceder al registro de deudas que se tiene con las entidades financieras donde se es cliente.\n",
    "\n",
    "[CENDEU](http://www.bcra.gov.ar/BCRAyVos/Situacion_Crediticia.asp)"
   ]
  },
  {
   "cell_type": "markdown",
   "metadata": {
    "id": "mrneIp0HsJa_"
   },
   "source": [
    "### Notas: Que es la base de de CENDE del BCRA\n",
    "\n",
    "Buscar el **leame deudores** para ver la composicion del archivo 24DSF.txt en el directorio 24DSF2020230\n",
    "\n",
    "En la entrega dejo el adjunto para la lectura del leame que proporciona el BCRA\n",
    "\n",
    "Cabe aclarar que solo se incluirán en este archivo los *deudores de entidades activas* y los registros de aquellos deudores en situación normal de entidades dadas de baja.\n",
    "\n",
    "Entre los campos que se identificarán en el registro encontramos:\n",
    "\n",
    "1 **Denominación del deudor**\n",
    "\n",
    "Nombre o razón social de la persona humana o jurídica que figura en el padrón de la Administración Federal de Ingresos Públicos (AFIP) o bien la que fuera registrada por la entidad informante.\n",
    "\n",
    "2 **Entidad**\n",
    "Denominación de la entidad informante.\n",
    "\n",
    "3 **Período**\n",
    "En formato MM/AA, indica el último período informado.\n",
    "\n",
    "4 **Situación**\n",
    "\n",
    "1. Normal | Atraso en el pago que no supere los 31 días. (*)\n",
    "\n",
    "2. Riesgo bajo | Atraso en el pago de más de 31 y hasta 90 días desde el vencimiento. (*)\n",
    "\n",
    "3. Riesgo medio | Atraso en el pago de más de 90 y hasta 180 días. (*)\n",
    "\n",
    "4. Riesgo alto | Atraso en el pago de más de 180 días hasta un año. (*)\n",
    "\n",
    "5. Irrecuperable | Atrasos superiores a un año\n",
    "\n",
    "\n",
    "5 Monto\n",
    "Información en miles de pesos. "
   ]
  },
  {
   "cell_type": "markdown",
   "metadata": {},
   "source": [
    "## 2. Actividades\n",
    "\n",
    "1. Generar un dataframe con 24 meses de historia contando como inicio 03/2023. Recuerde leer bien el archivo identificando tipo de variables. Calcule el tamaño en memoria del archivo cargado. Cargar solamente los primeros 500 k registros.\n",
    "2. Leer el archivo Entidades_bcra.xlsx donde estan los datos de las instituciones\n",
    "3. Construir un diccionario para mapear el código de la institucion con la entidad. Aquellas instituciones que no esten en el archivo, denominar \"Others\"\n",
    "\n",
    "Ayuda: \n",
    "\n",
    "\n",
    "#diccionario por default (cuando no hay codigos identificados)\n",
    "mapanombre = defaultdict(lambda: 'Other')\n",
    "mapatipo   = defaultdict(lambda: 'Other')\n",
    "\n",
    "mapatipo.update(Entidades.set_index('Codigo').to_dict()['Entidad'])\n",
    "mapanombre = mapatipo\n",
    "\n",
    "\n",
    "4. Identificar cuits por tipo de persona, o género\n",
    "\n",
    "5. Estudiar la distribucion de situaciones actuales para el mes en curso.\n",
    "Comparar situaciones entre empresas y personas físicas\n",
    "\n",
    "Comparar situaciones entre hombres y mujeres.\n",
    "\n",
    "6. Estudiar la evolución de situaciones a lo largo del tiempo (cantidad de cuits con situaciones por clases) \n",
    "Que puede decir de esto?\n",
    "\n",
    "7. Construir un dataframe que ayude a entender la composición porcentual de las situaciones a lo largo del tiempo.\n",
    "Que conclusiones puede sacar?\n",
    "\n",
    "8. Estudiar la evolución de montos de deuda total en situación 1 lo largo del tiempo\n",
    "Comparar situaciones entre empresas y personas físicas\n",
    "\n",
    "Comparar situaciones entre hombres y mujeres.\n",
    "\n",
    "9. Construir un dataframe que permita ver las 3 mayores instituciones con registros en sit>1 y <=2 para el ultimo mes. El dataframe debe contener al menos las siguientes columnas.\n",
    "Entidad\t count\tmean\ttot\t Tipo_entidad\n",
    "\n",
    "10. Tomar como referencia la primer entidad, por cada Tipo_entidad y hacer un análsis de la distribución de monto de deuda actual.\n",
    "Como es la distribución de deuda? Podemos diferenciar bancos de mutuales y de otro tipo de instituciones?\n",
    "\n",
    "11. Innovar, sugerir, encontrar algún \"insight\" que permita entender el endeudamiento del sistema financiero y su evolución. Utilizar los datos de IPC para tener en cuenta la inflación. \n",
    "Cuales empresas crecen más en individuos en situación 1? cual es la mediana de deuda? cual es el monto total de deuda?\n",
    "\n"
   ]
  },
  {
   "cell_type": "markdown",
   "metadata": {},
   "source": [
    "### Mapeo de las entidades"
   ]
  },
  {
   "cell_type": "code",
   "execution_count": null,
   "metadata": {},
   "outputs": [],
   "source": [
    "import os\n",
    "import pandas as pd "
   ]
  },
  {
   "cell_type": "code",
   "execution_count": 3,
   "metadata": {},
   "outputs": [],
   "source": [
    "import numpy as np\n",
    "import matplotlib.pyplot as plt\n",
    "import seaborn as sns\n",
    "%matplotlib inline"
   ]
  },
  {
   "cell_type": "code",
   "execution_count": 4,
   "metadata": {},
   "outputs": [
    {
     "name": "stdout",
     "output_type": "stream",
     "text": [
      " entorno local\n"
     ]
    }
   ],
   "source": [
    "import os\n",
    "# Let's determine the current directory and store it in a variable\n",
    "# (execute this cell only once at the beginning)\n",
    "# ayudas comandos: https://neptune.ai/blog/google-colab-dealing-with-files-2\n",
    "\n",
    "try:\n",
    "  from google.colab import drive\n",
    "  drive.mount('/content/drive')\n",
    "  cwd = os.getcwd()\n",
    "  cwd\n",
    "  #drive dir\n",
    "  drive_dir = \"/content/drive/Shared drives/Prestamos\"\n",
    "  os.chdir (drive_dir)\n",
    "  print (' google drive en ', drive_dir)\n",
    "except:\n",
    "  print (' entorno local')"
   ]
  },
  {
   "cell_type": "code",
   "execution_count": null,
   "metadata": {},
   "outputs": [
    {
     "name": "stdout",
     "output_type": "stream",
     "text": [
      "6.580352783203125e-05 Tamaño completo en MB en memoria\n"
     ]
    }
   ],
   "source": [
    "from sys import getsizeof\n",
    "print(getsizeof(\"NOMBRE DEL DATAFRAME\")/1024/1024, 'Tamaño completo en MB en memoria')\n",
    "\n",
    "!ls #lista de directorios . Con \"!\" se pueden ejecutar comandos linux muy utiles como descompresion de archivos o manipulaciones\n"
   ]
  }
 ],
 "metadata": {
  "colab": {
   "collapsed_sections": [
    "mrneIp0HsJa_",
    "busJKDcisJbQ",
    "k0ejzFjZsJbS",
    "hOEFuOg4sJbe",
    "lptxnh2EsJbl"
   ],
   "name": "JuanIgnacioPajonScocco.ipynb",
   "provenance": []
  },
  "kernelspec": {
   "display_name": "Python 3",
   "language": "python",
   "name": "python3"
  },
  "language_info": {
   "codemirror_mode": {
    "name": "ipython",
    "version": 3
   },
   "file_extension": ".py",
   "mimetype": "text/x-python",
   "name": "python",
   "nbconvert_exporter": "python",
   "pygments_lexer": "ipython3",
   "version": "3.8.10"
  }
 },
 "nbformat": 4,
 "nbformat_minor": 4
}
