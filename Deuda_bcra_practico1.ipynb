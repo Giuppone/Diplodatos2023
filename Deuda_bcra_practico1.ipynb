{
 "cells": [
  {
   "cell_type": "markdown",
   "metadata": {
    "id": "HEHx-Yg4sJa7"
   },
   "source": [
    "# ANALISIS CARTERA MERCADO Y SCORING CREDITICIO\n",
    "Dr. Cristian Giuppone, https://www.linkedin.com/in/cristian-giuppone/ "
   ]
  },
  {
   "cell_type": "markdown",
   "metadata": {
    "id": "7MI6Qx0KsJa9",
    "tags": []
   },
   "source": [
    "## 1. INTRODUCCION"
   ]
  },
  {
   "cell_type": "markdown",
   "metadata": {
    "id": "-d8PDHyXsJa-"
   },
   "source": [
    "Análisis de los deudores en Argentina: \n",
    "Nuestro objetivo es analizar la estructura del endeudamiento del sistema financiero argentino y construir un score para establecer cuando una persona es propensa a entrar en default. Para lograr esto, utilizaremos la base de datos CENDEU del Banco Central de la República Argentina (BCRA), la cual cuenta con información actualizada sobre financiamientos otorgados por entidades financieras, fideicomisos financieros, emisores no financieros de tarjetas de crédito y compra, otros proveedores no financieros de crédito, sociedades de garantía recíproca y fondos de garantía de carácter público. La base de datos se encuentra detallada por CUIT.\n",
    "\n",
    "Para comprender rápidamente la composición de nuestra base de datos, es posible acceder al hipervínculo CENDEU e ingresar su CUIT en la página web. De esta forma, se podrá acceder al registro de deudas que se tiene con las entidades financieras donde se es cliente.\n",
    "\n",
    "[CENDEU](http://www.bcra.gov.ar/BCRAyVos/Situacion_Crediticia.asp)"
   ]
  },
  {
   "cell_type": "markdown",
   "metadata": {
    "id": "mrneIp0HsJa_"
   },
   "source": [
    "### Notas: Que es la base de de CENDE del BCRA\n",
    "\n",
    "Buscar el **leame deudores** para ver la composicion del archivo 24DSF.txt en el directorio 24DSF2020230\n",
    "\n",
    "En la entrega dejo el adjunto para la lectura del leame que proporciona el BCRA\n",
    "\n",
    "Cabe aclarar que solo se incluirán en este archivo los *deudores de entidades activas* y los registros de aquellos deudores en situación normal de entidades dadas de baja.\n",
    "\n",
    "Entre los campos que se identificarán en el registro encontramos:\n",
    "\n",
    "1 **Denominación del deudor**\n",
    "\n",
    "Nombre o razón social de la persona humana o jurídica que figura en el padrón de la Administración Federal de Ingresos Públicos (AFIP) o bien la que fuera registrada por la entidad informante.\n",
    "\n",
    "2 **Entidad**\n",
    "Denominación de la entidad informante.\n",
    "\n",
    "3 **Período**\n",
    "En formato MM/AA, indica el último período informado.\n",
    "\n",
    "4 **Situación**\n",
    "\n",
    "1. Normal | Atraso en el pago que no supere los 31 días. (*)\n",
    "\n",
    "2. Riesgo bajo | Atraso en el pago de más de 31 y hasta 90 días desde el vencimiento. (*)\n",
    "\n",
    "3. Riesgo medio | Atraso en el pago de más de 90 y hasta 180 días. (*)\n",
    "\n",
    "4. Riesgo alto | Atraso en el pago de más de 180 días hasta un año. (*)\n",
    "\n",
    "5. Irrecuperable | Atrasos superiores a un año\n",
    "\n",
    "\n",
    "5 Monto\n",
    "Información en miles de pesos. "
   ]
  },
  {
   "cell_type": "markdown",
   "metadata": {},
   "source": [
    "## 2. Actividades\n",
    "\n",
    "1. Generar un dataframe con 24 meses de historia contando como inicio 03/2023. Recuerde leer bien el archivo identificando tipo de variables. Calcule el tamaño en memoria del archivo cargado. Cargar solamente los primeros 500 k registros.\n",
    "2. Leer el archivo Entidades_bcra.xlsx donde estan los datos de las instituciones\n",
    "3. Construir un diccionario para mapear el código de la institucion con la entidad. Aquellas instituciones que no esten en el archivo, denominar \"Others\"\n",
    "\n",
    "Ayuda: \n",
    "\n",
    "\n",
    "#diccionario por default (cuando no hay codigos identificados)\n",
    "mapanombre = defaultdict(lambda: 'Other')\n",
    "mapatipo   = defaultdict(lambda: 'Other')\n",
    "\n",
    "mapatipo.update(Entidades.set_index('Codigo').to_dict()['Entidad'])\n",
    "mapanombre = mapatipo\n",
    "\n",
    "\n",
    "4. Identificar cuits por tipo de persona, o género\n",
    "\n",
    "5. Estudiar la distribucion de situaciones actuales para el mes en curso.\n",
    "Comparar situaciones entre empresas y personas físicas\n",
    "\n",
    "Comparar situaciones entre hombres y mujeres.\n",
    "\n",
    "6. Estudiar la evolución de situaciones a lo largo del tiempo (cantidad de cuits con situaciones por clases) \n",
    "Que puede decir de esto?\n",
    "\n",
    "7. Construir un dataframe que ayude a entender la composición porcentual de las situaciones a lo largo del tiempo.\n",
    "Que conclusiones puede sacar?\n",
    "\n",
    "8. Estudiar la evolución de montos de deuda total en situación 1 lo largo del tiempo\n",
    "Comparar situaciones entre empresas y personas físicas\n",
    "\n",
    "Comparar situaciones entre hombres y mujeres.\n",
    "\n",
    "9. Construir un dataframe que permita ver las 3 mayores instituciones con registros en sit>1 y <=2 para el ultimo mes. El dataframe debe contener al menos las siguientes columnas.\n",
    "Entidad\t count\tmean\ttot\t Tipo_entidad\n",
    "\n",
    "10. Tomar como referencia la primer entidad, por cada Tipo_entidad y hacer un análsis de la distribución de monto de deuda actual.\n",
    "Como es la distribución de deuda? Podemos diferenciar bancos de mutuales y de otro tipo de instituciones?\n",
    "\n",
    "11. Innovar, sugerir, encontrar algún \"insight\" que permita entender el endeudamiento del sistema financiero y su evolución. Utilizar los datos de IPC para tener en cuenta la inflación. \n",
    "Cuales empresas crecen más en individuos en situación 1? cual es la mediana de deuda? cual es el monto total de deuda?\n",
    "\n"
   ]
  },
  {
   "cell_type": "markdown",
   "metadata": {},
   "source": [
    "### Mapeo de las entidades"
   ]
  },
  {
   "cell_type": "code",
   "execution_count": null,
   "metadata": {},
   "outputs": [],
   "source": [
    "import os\n",
    "import pandas as pd "
   ]
  },
  {
   "cell_type": "code",
   "execution_count": 3,
   "metadata": {},
   "outputs": [],
   "source": [
    "import numpy as np\n",
    "import matplotlib.pyplot as plt\n",
    "import seaborn as sns\n",
    "%matplotlib inline"
   ]
  },
  {
   "cell_type": "code",
   "execution_count": 4,
   "metadata": {},
   "outputs": [
    {
     "name": "stdout",
     "output_type": "stream",
     "text": [
      " entorno local\n"
     ]
    }
   ],
   "source": [
    "import os\n",
    "# Let's determine the current directory and store it in a variable\n",
    "# (execute this cell only once at the beginning)\n",
    "# ayudas comandos: https://neptune.ai/blog/google-colab-dealing-with-files-2\n",
    "\n",
    "try:\n",
    "  from google.colab import drive\n",
    "  drive.mount('/content/drive')\n",
    "  cwd = os.getcwd()\n",
    "  cwd\n",
    "  #drive dir\n",
    "  drive_dir = \"/content/drive/Shared drives/Prestamos\"\n",
    "  os.chdir (drive_dir)\n",
    "  print (' google drive en ', drive_dir)\n",
    "except:\n",
    "  print (' entorno local')"
   ]
  },
  {
   "cell_type": "code",
   "execution_count": 6,
   "metadata": {},
   "outputs": [
    {
     "name": "stdout",
     "output_type": "stream",
     "text": [
      "6.580352783203125e-05 Tamaño completo en MB en memoria\n"
     ]
    }
   ],
   "source": [
    "from sys import getsizeof\n",
    "print(getsizeof(\"NOMBRE DEL DATAFRAME\")/1024/1024, 'Tamaño completo en MB en memoria')\n",
    "\n",
    "!ls #lista de directorios . Con \"!\" se pueden ejecutar comandos linux muy utiles como descompresion de archivos o manipulaciones\n"
   ]
  },
  {
   "cell_type": "code",
   "execution_count": 52,
   "metadata": {},
   "outputs": [
    {
     "data": {
      "text/html": [
       "<div>\n",
       "    <div style=\"width: 24px; height: 24px; background-color: #e1e1e1; border: 3px solid #9D9D9D; border-radius: 5px; position: absolute;\"> </div>\n",
       "    <div style=\"margin-left: 48px;\">\n",
       "        <h3 style=\"margin-bottom: 0px;\">Client</h3>\n",
       "        <p style=\"color: #9D9D9D; margin-bottom: 0px;\">Client-fa397816-52e6-11ec-9ee4-094613e8fb16</p>\n",
       "        <table style=\"width: 100%; text-align: left;\">\n",
       "\n",
       "        <tr>\n",
       "        \n",
       "            <td style=\"text-align: left;\"><strong>Connection method:</strong> Cluster object</td>\n",
       "            <td style=\"text-align: left;\"><strong>Cluster type:</strong> distributed.LocalCluster</td>\n",
       "        \n",
       "        </tr>\n",
       "\n",
       "        \n",
       "            <tr>\n",
       "                <td style=\"text-align: left;\">\n",
       "                    <strong>Dashboard: </strong> <a href=\"http://127.0.0.1:8787/status\" target=\"_blank\">http://127.0.0.1:8787/status</a>\n",
       "                </td>\n",
       "                <td style=\"text-align: left;\"></td>\n",
       "            </tr>\n",
       "        \n",
       "\n",
       "        </table>\n",
       "\n",
       "        \n",
       "            <details>\n",
       "            <summary style=\"margin-bottom: 20px;\"><h3 style=\"display: inline;\">Cluster Info</h3></summary>\n",
       "            <div class=\"jp-RenderedHTMLCommon jp-RenderedHTML jp-mod-trusted jp-OutputArea-output\">\n",
       "    <div style=\"width: 24px; height: 24px; background-color: #e1e1e1; border: 3px solid #9D9D9D; border-radius: 5px; position: absolute;\">\n",
       "    </div>\n",
       "    <div style=\"margin-left: 48px;\">\n",
       "        <h3 style=\"margin-bottom: 0px; margin-top: 0px;\">LocalCluster</h3>\n",
       "        <p style=\"color: #9D9D9D; margin-bottom: 0px;\">f38f48ee</p>\n",
       "        <table style=\"width: 100%; text-align: left;\">\n",
       "            <tr>\n",
       "                <td style=\"text-align: left;\">\n",
       "                    <strong>Dashboard:</strong> <a href=\"http://127.0.0.1:8787/status\" target=\"_blank\">http://127.0.0.1:8787/status</a>\n",
       "                </td>\n",
       "                <td style=\"text-align: left;\">\n",
       "                    <strong>Workers:</strong> 4\n",
       "                </td>\n",
       "            </tr>\n",
       "            <tr>\n",
       "                <td style=\"text-align: left;\">\n",
       "                    <strong>Total threads:</strong> 8\n",
       "                </td>\n",
       "                <td style=\"text-align: left;\">\n",
       "                    <strong>Total memory:</strong> 14.90 GiB\n",
       "                </td>\n",
       "            </tr>\n",
       "            \n",
       "            <tr>\n",
       "    <td style=\"text-align: left;\"><strong>Status:</strong> running</td>\n",
       "    <td style=\"text-align: left;\"><strong>Using processes:</strong> True</td>\n",
       "</tr>\n",
       "\n",
       "            \n",
       "        </table>\n",
       "\n",
       "        <details>\n",
       "            <summary style=\"margin-bottom: 20px;\">\n",
       "                <h3 style=\"display: inline;\">Scheduler Info</h3>\n",
       "            </summary>\n",
       "\n",
       "            <div style=\"\">\n",
       "    <div>\n",
       "        <div style=\"width: 24px; height: 24px; background-color: #FFF7E5; border: 3px solid #FF6132; border-radius: 5px; position: absolute;\"> </div>\n",
       "        <div style=\"margin-left: 48px;\">\n",
       "            <h3 style=\"margin-bottom: 0px;\">Scheduler</h3>\n",
       "            <p style=\"color: #9D9D9D; margin-bottom: 0px;\">Scheduler-15c90c67-0f5f-4801-b0c8-30598ed6b1ed</p>\n",
       "            <table style=\"width: 100%; text-align: left;\">\n",
       "                <tr>\n",
       "                    <td style=\"text-align: left;\">\n",
       "                        <strong>Comm:</strong> tcp://127.0.0.1:35585\n",
       "                    </td>\n",
       "                    <td style=\"text-align: left;\">\n",
       "                        <strong>Workers:</strong> 4\n",
       "                    </td>\n",
       "                </tr>\n",
       "                <tr>\n",
       "                    <td style=\"text-align: left;\">\n",
       "                        <strong>Dashboard:</strong> <a href=\"http://127.0.0.1:8787/status\" target=\"_blank\">http://127.0.0.1:8787/status</a>\n",
       "                    </td>\n",
       "                    <td style=\"text-align: left;\">\n",
       "                        <strong>Total threads:</strong> 8\n",
       "                    </td>\n",
       "                </tr>\n",
       "                <tr>\n",
       "                    <td style=\"text-align: left;\">\n",
       "                        <strong>Started:</strong> Just now\n",
       "                    </td>\n",
       "                    <td style=\"text-align: left;\">\n",
       "                        <strong>Total memory:</strong> 14.90 GiB\n",
       "                    </td>\n",
       "                </tr>\n",
       "            </table>\n",
       "        </div>\n",
       "    </div>\n",
       "\n",
       "    <details style=\"margin-left: 48px;\">\n",
       "        <summary style=\"margin-bottom: 20px;\">\n",
       "            <h3 style=\"display: inline;\">Workers</h3>\n",
       "        </summary>\n",
       "\n",
       "        \n",
       "        <div style=\"margin-bottom: 20px;\">\n",
       "            <div style=\"width: 24px; height: 24px; background-color: #DBF5FF; border: 3px solid #4CC9FF; border-radius: 5px; position: absolute;\"> </div>\n",
       "            <div style=\"margin-left: 48px;\">\n",
       "            <details>\n",
       "                <summary>\n",
       "                    <h4 style=\"margin-bottom: 0px; display: inline;\">Worker: 0</h4>\n",
       "                </summary>\n",
       "                <table style=\"width: 100%; text-align: left;\">\n",
       "                    <tr>\n",
       "                        <td style=\"text-align: left;\">\n",
       "                            <strong>Comm: </strong> tcp://127.0.0.1:44937\n",
       "                        </td>\n",
       "                        <td style=\"text-align: left;\">\n",
       "                            <strong>Total threads: </strong> 2\n",
       "                        </td>\n",
       "                    </tr>\n",
       "                    <tr>\n",
       "                        <td style=\"text-align: left;\">\n",
       "                            <strong>Dashboard: </strong> <a href=\"http://127.0.0.1:43375/status\" target=\"_blank\">http://127.0.0.1:43375/status</a>\n",
       "                        </td>\n",
       "                        <td style=\"text-align: left;\">\n",
       "                            <strong>Memory: </strong> 3.73 GiB\n",
       "                        </td>\n",
       "                    </tr>\n",
       "                    <tr>\n",
       "                        <td style=\"text-align: left;\">\n",
       "                            <strong>Nanny: </strong> tcp://127.0.0.1:36453\n",
       "                        </td>\n",
       "                        <td style=\"text-align: left;\"></td>\n",
       "                    </tr>\n",
       "                    <tr>\n",
       "                        <td colspan=\"2\" style=\"text-align: left;\">\n",
       "                            <strong>Local directory: </strong> /Invera/bcra/dask-worker-space/worker-wcww4xjk\n",
       "                        </td>\n",
       "                    </tr>\n",
       "\n",
       "                    \n",
       "\n",
       "                    \n",
       "\n",
       "                </table>\n",
       "            </details>\n",
       "            </div>\n",
       "        </div>\n",
       "        \n",
       "        <div style=\"margin-bottom: 20px;\">\n",
       "            <div style=\"width: 24px; height: 24px; background-color: #DBF5FF; border: 3px solid #4CC9FF; border-radius: 5px; position: absolute;\"> </div>\n",
       "            <div style=\"margin-left: 48px;\">\n",
       "            <details>\n",
       "                <summary>\n",
       "                    <h4 style=\"margin-bottom: 0px; display: inline;\">Worker: 1</h4>\n",
       "                </summary>\n",
       "                <table style=\"width: 100%; text-align: left;\">\n",
       "                    <tr>\n",
       "                        <td style=\"text-align: left;\">\n",
       "                            <strong>Comm: </strong> tcp://127.0.0.1:33435\n",
       "                        </td>\n",
       "                        <td style=\"text-align: left;\">\n",
       "                            <strong>Total threads: </strong> 2\n",
       "                        </td>\n",
       "                    </tr>\n",
       "                    <tr>\n",
       "                        <td style=\"text-align: left;\">\n",
       "                            <strong>Dashboard: </strong> <a href=\"http://127.0.0.1:38863/status\" target=\"_blank\">http://127.0.0.1:38863/status</a>\n",
       "                        </td>\n",
       "                        <td style=\"text-align: left;\">\n",
       "                            <strong>Memory: </strong> 3.73 GiB\n",
       "                        </td>\n",
       "                    </tr>\n",
       "                    <tr>\n",
       "                        <td style=\"text-align: left;\">\n",
       "                            <strong>Nanny: </strong> tcp://127.0.0.1:41619\n",
       "                        </td>\n",
       "                        <td style=\"text-align: left;\"></td>\n",
       "                    </tr>\n",
       "                    <tr>\n",
       "                        <td colspan=\"2\" style=\"text-align: left;\">\n",
       "                            <strong>Local directory: </strong> /Invera/bcra/dask-worker-space/worker-bdalpo9a\n",
       "                        </td>\n",
       "                    </tr>\n",
       "\n",
       "                    \n",
       "\n",
       "                    \n",
       "\n",
       "                </table>\n",
       "            </details>\n",
       "            </div>\n",
       "        </div>\n",
       "        \n",
       "        <div style=\"margin-bottom: 20px;\">\n",
       "            <div style=\"width: 24px; height: 24px; background-color: #DBF5FF; border: 3px solid #4CC9FF; border-radius: 5px; position: absolute;\"> </div>\n",
       "            <div style=\"margin-left: 48px;\">\n",
       "            <details>\n",
       "                <summary>\n",
       "                    <h4 style=\"margin-bottom: 0px; display: inline;\">Worker: 2</h4>\n",
       "                </summary>\n",
       "                <table style=\"width: 100%; text-align: left;\">\n",
       "                    <tr>\n",
       "                        <td style=\"text-align: left;\">\n",
       "                            <strong>Comm: </strong> tcp://127.0.0.1:34949\n",
       "                        </td>\n",
       "                        <td style=\"text-align: left;\">\n",
       "                            <strong>Total threads: </strong> 2\n",
       "                        </td>\n",
       "                    </tr>\n",
       "                    <tr>\n",
       "                        <td style=\"text-align: left;\">\n",
       "                            <strong>Dashboard: </strong> <a href=\"http://127.0.0.1:37015/status\" target=\"_blank\">http://127.0.0.1:37015/status</a>\n",
       "                        </td>\n",
       "                        <td style=\"text-align: left;\">\n",
       "                            <strong>Memory: </strong> 3.73 GiB\n",
       "                        </td>\n",
       "                    </tr>\n",
       "                    <tr>\n",
       "                        <td style=\"text-align: left;\">\n",
       "                            <strong>Nanny: </strong> tcp://127.0.0.1:39127\n",
       "                        </td>\n",
       "                        <td style=\"text-align: left;\"></td>\n",
       "                    </tr>\n",
       "                    <tr>\n",
       "                        <td colspan=\"2\" style=\"text-align: left;\">\n",
       "                            <strong>Local directory: </strong> /Invera/bcra/dask-worker-space/worker-97gl9tep\n",
       "                        </td>\n",
       "                    </tr>\n",
       "\n",
       "                    \n",
       "\n",
       "                    \n",
       "\n",
       "                </table>\n",
       "            </details>\n",
       "            </div>\n",
       "        </div>\n",
       "        \n",
       "        <div style=\"margin-bottom: 20px;\">\n",
       "            <div style=\"width: 24px; height: 24px; background-color: #DBF5FF; border: 3px solid #4CC9FF; border-radius: 5px; position: absolute;\"> </div>\n",
       "            <div style=\"margin-left: 48px;\">\n",
       "            <details>\n",
       "                <summary>\n",
       "                    <h4 style=\"margin-bottom: 0px; display: inline;\">Worker: 3</h4>\n",
       "                </summary>\n",
       "                <table style=\"width: 100%; text-align: left;\">\n",
       "                    <tr>\n",
       "                        <td style=\"text-align: left;\">\n",
       "                            <strong>Comm: </strong> tcp://127.0.0.1:37441\n",
       "                        </td>\n",
       "                        <td style=\"text-align: left;\">\n",
       "                            <strong>Total threads: </strong> 2\n",
       "                        </td>\n",
       "                    </tr>\n",
       "                    <tr>\n",
       "                        <td style=\"text-align: left;\">\n",
       "                            <strong>Dashboard: </strong> <a href=\"http://127.0.0.1:45751/status\" target=\"_blank\">http://127.0.0.1:45751/status</a>\n",
       "                        </td>\n",
       "                        <td style=\"text-align: left;\">\n",
       "                            <strong>Memory: </strong> 3.73 GiB\n",
       "                        </td>\n",
       "                    </tr>\n",
       "                    <tr>\n",
       "                        <td style=\"text-align: left;\">\n",
       "                            <strong>Nanny: </strong> tcp://127.0.0.1:37221\n",
       "                        </td>\n",
       "                        <td style=\"text-align: left;\"></td>\n",
       "                    </tr>\n",
       "                    <tr>\n",
       "                        <td colspan=\"2\" style=\"text-align: left;\">\n",
       "                            <strong>Local directory: </strong> /Invera/bcra/dask-worker-space/worker-agisk6so\n",
       "                        </td>\n",
       "                    </tr>\n",
       "\n",
       "                    \n",
       "\n",
       "                    \n",
       "\n",
       "                </table>\n",
       "            </details>\n",
       "            </div>\n",
       "        </div>\n",
       "        \n",
       "\n",
       "    </details>\n",
       "</div>\n",
       "\n",
       "        </details>\n",
       "    </div>\n",
       "</div>\n",
       "            </details>\n",
       "        \n",
       "\n",
       "    </div>\n",
       "</div>"
      ],
      "text/plain": [
       "<Client: 'tcp://127.0.0.1:35585' processes=4 threads=8, memory=14.90 GiB>"
      ]
     },
     "execution_count": 52,
     "metadata": {},
     "output_type": "execute_result"
    }
   ],
   "source": [
    "# vars(df_chunk)\n",
    "# fwidths\n",
    "import dask\n",
    "import dask.dataframe as dd\n",
    "from dask.distributed import Client, progress\n",
    "client = Client(n_workers=4, threads_per_worker=2, memory_limit='4GB')\n",
    "client"
   ]
  },
  {
   "cell_type": "code",
   "execution_count": 53,
   "metadata": {},
   "outputs": [],
   "source": [
    "# %%time\n",
    "df = dd.read_fwf(file_nameds\n",
    "                   , encoding='latin-1' \n",
    "                   , widths = fwidths[0:12]  #updated change with the file\n",
    "                   , names = columns[0:12] #columns[0:12]\n",
    "#                    , nrows = 40000\n",
    "                   ,skip_blank_lines=True\n",
    "                   ,decimal=',' \n",
    "                    ,dtype=dty\n",
    "#                     ,dtype={'cuit': 'object'}\n",
    "                   , header=None)\n",
    "#     '24DSF202109/24DSF.txt')"
   ]
  },
  {
   "cell_type": "code",
   "execution_count": 54,
   "metadata": {},
   "outputs": [
    {
     "data": {
      "text/html": [
       "<div>\n",
       "<style scoped>\n",
       "    .dataframe tbody tr th:only-of-type {\n",
       "        vertical-align: middle;\n",
       "    }\n",
       "\n",
       "    .dataframe tbody tr th {\n",
       "        vertical-align: top;\n",
       "    }\n",
       "\n",
       "    .dataframe thead th {\n",
       "        text-align: right;\n",
       "    }\n",
       "</style>\n",
       "<table border=\"1\" class=\"dataframe\">\n",
       "  <thead>\n",
       "    <tr style=\"text-align: right;\">\n",
       "      <th></th>\n",
       "      <th>Banco</th>\n",
       "      <th>cod</th>\n",
       "      <th>cuit</th>\n",
       "      <th>sit0</th>\n",
       "      <th>monto0</th>\n",
       "      <th>sit1</th>\n",
       "      <th>monto1</th>\n",
       "      <th>sit2</th>\n",
       "      <th>monto2</th>\n",
       "      <th>sit3</th>\n",
       "      <th>monto3</th>\n",
       "      <th>sit4</th>\n",
       "    </tr>\n",
       "  </thead>\n",
       "  <tbody>\n",
       "    <tr>\n",
       "      <th>0</th>\n",
       "      <td>34</td>\n",
       "      <td>11</td>\n",
       "      <td>20117694233</td>\n",
       "      <td>1</td>\n",
       "      <td>91</td>\n",
       "      <td>1</td>\n",
       "      <td>73</td>\n",
       "      <td>1</td>\n",
       "      <td>83</td>\n",
       "      <td>1</td>\n",
       "      <td>80</td>\n",
       "      <td>1</td>\n",
       "    </tr>\n",
       "    <tr>\n",
       "      <th>1</th>\n",
       "      <td>386</td>\n",
       "      <td>11</td>\n",
       "      <td>27055884310</td>\n",
       "      <td>1</td>\n",
       "      <td>39</td>\n",
       "      <td>1</td>\n",
       "      <td>42</td>\n",
       "      <td>1</td>\n",
       "      <td>46</td>\n",
       "      <td>1</td>\n",
       "      <td>49</td>\n",
       "      <td>1</td>\n",
       "    </tr>\n",
       "    <tr>\n",
       "      <th>2</th>\n",
       "      <td>17</td>\n",
       "      <td>11</td>\n",
       "      <td>20346215535</td>\n",
       "      <td>1</td>\n",
       "      <td>83</td>\n",
       "      <td>1</td>\n",
       "      <td>99</td>\n",
       "      <td>1</td>\n",
       "      <td>150</td>\n",
       "      <td>1</td>\n",
       "      <td>119</td>\n",
       "      <td>1</td>\n",
       "    </tr>\n",
       "    <tr>\n",
       "      <th>3</th>\n",
       "      <td>72303</td>\n",
       "      <td>11</td>\n",
       "      <td>20309956924</td>\n",
       "      <td>5</td>\n",
       "      <td>7</td>\n",
       "      <td>5</td>\n",
       "      <td>7</td>\n",
       "      <td>5</td>\n",
       "      <td>7</td>\n",
       "      <td>5</td>\n",
       "      <td>7</td>\n",
       "      <td>5</td>\n",
       "    </tr>\n",
       "    <tr>\n",
       "      <th>4</th>\n",
       "      <td>55002</td>\n",
       "      <td>11</td>\n",
       "      <td>20231787217</td>\n",
       "      <td>1</td>\n",
       "      <td>124</td>\n",
       "      <td>1</td>\n",
       "      <td>111</td>\n",
       "      <td>2</td>\n",
       "      <td>127</td>\n",
       "      <td>1</td>\n",
       "      <td>134</td>\n",
       "      <td>1</td>\n",
       "    </tr>\n",
       "  </tbody>\n",
       "</table>\n",
       "</div>"
      ],
      "text/plain": [
       "   Banco  cod         cuit  sit0  monto0  sit1  monto1  sit2  monto2  sit3  \\\n",
       "0     34   11  20117694233     1      91     1      73     1      83     1   \n",
       "1    386   11  27055884310     1      39     1      42     1      46     1   \n",
       "2     17   11  20346215535     1      83     1      99     1     150     1   \n",
       "3  72303   11  20309956924     5       7     5       7     5       7     5   \n",
       "4  55002   11  20231787217     1     124     1     111     2     127     1   \n",
       "\n",
       "   monto3  sit4  \n",
       "0      80     1  \n",
       "1      49     1  \n",
       "2     119     1  \n",
       "3       7     5  \n",
       "4     134     1  "
      ]
     },
     "execution_count": 54,
     "metadata": {},
     "output_type": "execute_result"
    }
   ],
   "source": [
    "df.head()"
   ]
  },
  {
   "cell_type": "code",
   "execution_count": 55,
   "metadata": {},
   "outputs": [
    {
     "data": {
      "text/plain": [
       "0      PATAGONIA\n",
       "1    B.ENTRERIOS\n",
       "2           BBVA\n",
       "3      CREDIMAS \n",
       "4      AMEPORT -\n",
       "Name: Banco, dtype: object"
      ]
     },
     "execution_count": 55,
     "metadata": {},
     "output_type": "execute_result"
    }
   ],
   "source": [
    "df.head().Banco.map(mapanombre)"
   ]
  },
  {
   "cell_type": "code",
   "execution_count": 56,
   "metadata": {},
   "outputs": [
    {
     "data": {
      "text/plain": [
       "0    20117694233\n",
       "1    27055884310\n",
       "2    20346215535\n",
       "3    20309956924\n",
       "4    20231787217\n",
       "Name: cuit, dtype: object"
      ]
     },
     "execution_count": 56,
     "metadata": {},
     "output_type": "execute_result"
    }
   ],
   "source": [
    "df.cuit.head()"
   ]
  },
  {
   "cell_type": "code",
   "execution_count": 57,
   "metadata": {},
   "outputs": [
    {
     "data": {
      "text/plain": [
       "Dask Series Structure:\n",
       "npartitions=1\n",
       "    float64\n",
       "        ...\n",
       "Name: sit0, dtype: float64\n",
       "Dask Name: describe-numeric, 1427 tasks"
      ]
     },
     "execution_count": 57,
     "metadata": {},
     "output_type": "execute_result"
    }
   ],
   "source": [
    "df.sit0.describe()"
   ]
  },
  {
   "cell_type": "code",
   "execution_count": 58,
   "metadata": {},
   "outputs": [
    {
     "data": {
      "text/plain": [
       "25447284"
      ]
     },
     "execution_count": 58,
     "metadata": {},
     "output_type": "execute_result"
    }
   ],
   "source": [
    "# notice the parallelism\n",
    "df.monto0.max().compute()\n"
   ]
  },
  {
   "cell_type": "code",
   "execution_count": null,
   "metadata": {},
   "outputs": [],
   "source": []
  },
  {
   "cell_type": "code",
   "execution_count": 59,
   "metadata": {},
   "outputs": [],
   "source": [
    "query=27055884310 #20341534160\n",
    "\n",
    "fil = (df.cuit==query)\n",
    "# fil = (df.cuit==query) #& (df_deudores.Banco==11)\n",
    "# # plt.plot(df_deudores[4:20,1])\n",
    "# df[fil].Banco.map(mapanombre)\n",
    "# # vars(df_chunk)"
   ]
  },
  {
   "cell_type": "code",
   "execution_count": 60,
   "metadata": {},
   "outputs": [],
   "source": [
    "df_query = df[fil]\n",
    "# df_query.Banco = df_query.Banco.map(mapanombre)\n",
    "# df_query = df_query.set_index('Banco').loc[:, 'sit0':'monto23']\n",
    "\n",
    "# plt.scatter(x,data[])\n"
   ]
  },
  {
   "cell_type": "code",
   "execution_count": 63,
   "metadata": {},
   "outputs": [
    {
     "name": "stderr",
     "output_type": "stream",
     "text": [
      "distributed.nanny - WARNING - Restarting worker\n",
      "distributed.nanny - WARNING - Restarting worker\n"
     ]
    }
   ],
   "source": [
    "# df_query.compute()"
   ]
  },
  {
   "cell_type": "code",
   "execution_count": 64,
   "metadata": {},
   "outputs": [],
   "source": [
    "#not working\n",
    "# df_query.compute() "
   ]
  },
  {
   "cell_type": "code",
   "execution_count": 65,
   "metadata": {},
   "outputs": [],
   "source": [
    "# df_query.loc[:,df_query.columns.str.startswith('sit')]"
   ]
  }
 ],
 "metadata": {
  "colab": {
   "collapsed_sections": [
    "mrneIp0HsJa_",
    "busJKDcisJbQ",
    "k0ejzFjZsJbS",
    "hOEFuOg4sJbe",
    "lptxnh2EsJbl"
   ],
   "name": "JuanIgnacioPajonScocco.ipynb",
   "provenance": []
  },
  "kernelspec": {
   "display_name": "Python 3",
   "language": "python",
   "name": "python3"
  },
  "language_info": {
   "codemirror_mode": {
    "name": "ipython",
    "version": 3
   },
   "file_extension": ".py",
   "mimetype": "text/x-python",
   "name": "python",
   "nbconvert_exporter": "python",
   "pygments_lexer": "ipython3",
   "version": "3.8.10"
  }
 },
 "nbformat": 4,
 "nbformat_minor": 4
}
