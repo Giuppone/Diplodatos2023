{
  "nbformat": 4,
  "nbformat_minor": 0,
  "metadata": {
    "colab": {
      "provenance": [],
      "authorship_tag": "ABX9TyPV9EX4GWP313ra8EUnXy4k",
      "include_colab_link": true
    },
    "kernelspec": {
      "name": "python3",
      "display_name": "Python 3"
    },
    "language_info": {
      "name": "python"
    }
  },
  "cells": [
    {
      "cell_type": "markdown",
      "metadata": {
        "id": "view-in-github",
        "colab_type": "text"
      },
      "source": [
        "<a href=\"https://colab.research.google.com/github/Giuppone/Diplodatos2023/blob/main/Practico_3_GrupoXX.ipynb\" target=\"_parent\"><img src=\"https://colab.research.google.com/assets/colab-badge.svg\" alt=\"Open In Colab\"/></a>"
      ]
    },
    {
      "cell_type": "code",
      "execution_count": null,
      "metadata": {
        "id": "nOzt2dMJjwhD"
      },
      "outputs": [],
      "source": []
    },
    {
      "cell_type": "markdown",
      "source": [
        "# Guía para Construir un Modelo de Aprendizaje Automático Supervisado con Regresión Logística\n",
        "\n",
        "Construir un modelo de aprendizaje automático supervisado utilizando el algoritmo de Regresión Logística. Aplicar este modelo para predecir el score crediticio de cuits, determinando la probabilidad de pertenecer a la categoría de \"default\" o \"no default\". Pueden tomar lo siguiente como guia y recuerden ir armando una PPT para ayudarlos a presentar resultados. Dividan tareas para que todos participen.\n",
        "\n",
        "## 1. Preparación de Datos\n",
        "\n",
        "### Definir Objetivos y Conjuntos de Datos, feature engineering\n",
        "\n",
        "1. **Establecer el objetivo:** Determinar si un cuits es un \"default\" o \"no default\".\n",
        "2. **Seleccionar ventanas de estudio:** Definir el periodo de tiempo para el análisis.\n",
        "3. **Preparar los conjuntos de datos:** Dividir los datos en conjuntos de entrenamiento (70%) y validación (30%).\n",
        "\n",
        "## 2. Construcción del Modelo de Regresión Logística\n",
        "\n",
        "### Entrenamiento y Validación\n",
        "\n",
        "1. **Importar bibliotecas:** Importar las bibliotecas necesarias.\n",
        "2. **Cargar los datos:**\n",
        "3. **Dividir las características y el objetivo:** Separar las variables independientes (`X`) y la variable dependiente (`Y`).\n",
        "4. **Crear el modelo de Regresión Logística:** Crear la instancia del modelo de Regresión Logística.\n",
        "5. **Entrenar el modelo:** Entrenar el modelo utilizando los datos de entrenamiento.\n",
        "6. **Realizar predicciones:** Predecir las etiquetas en los datos de entrenamiento y validación.\n",
        "7. Tomar un cuit con score alto en el entrenamiento y verificar como es el grafico de situaciones en función del período. Hacer lo mismo para un score bajo.\n",
        "\n",
        "## 3. Evaluación del Modelo\n",
        "\n",
        "### Métricas de Evaluación (con el conjunto validación y con el conjunto out-of-sample)\n",
        "\n",
        "1. **Calcular la probabilidad de pertenecer a la categoría \"default\":** Obtener las probabilidades de pertenecer a la categoría \"default\" utilizando el modelo.\n",
        "2. **Transformar probabilidades en scores crediticios:** Convertir las probabilidades en scores crediticios para su análisis.\n",
        "3. **Visualizar el histograma de scores:** Generar un histograma para visualizar la distribución de scores.\n",
        "4. **Establecer un punto de corte:** Seleccionar un umbral para distinguir entre \"default\" y \"no default\".\n",
        "5. **Crear una matriz de confusión:** Calcular y analizar la matriz de confusión para diferentes umbrales.\n",
        "6. **Calcular métricas de evaluación:** Calcular métricas como precisión, recall, F1-Score, etc. Interpretar la matriz de confusión en base a esas métricas.\n",
        "7. **Experimentar con diferentes puntos de corte:** Probar diferentes umbrales y observar cómo afectan las métricas.\n",
        "\n",
        "## 4. Curva ROC y Interpretación\n",
        "\n",
        "1. **Calcular la tasa de verdaderos positivos y falsos positivos:** Calcular los valores necesarios para construir la curva ROC.\n",
        "2. **Construir la curva ROC:** Crear la curva ROC utilizando los valores calculados.\n",
        "3. **Graficar la curva ROC:** Visualizar la curva ROC para evaluar el rendimiento del modelo.\n",
        "4. **Calcular el área bajo la curva (AUC-ROC):** Calcular el valor AUC-ROC para cuantificar el rendimiento.\n",
        "5. **Interpretar la AUC-ROC:** Interpretar el valor AUC-ROC para evaluar la capacidad predictiva del modelo.\n",
        "\n",
        "## 5. Experimentar con otros modelos logísticos y comparar las corvas ROC.\n",
        "\n",
        "Experimentar con diferentes modelos, agregar o eliminar features menos importantes, ver puntos de corte y métricas para mejorar la interpretación y rendimiento del modelo.\n",
        "\n",
        "**La exploración y la experimentación son fundamentales en el proceso de construcción de modelos de aprendizaje automático. ¡Trabajen en conjunto!**"
      ],
      "metadata": {
        "id": "WRKUvwwBj0St"
      }
    },
    {
      "cell_type": "code",
      "source": [],
      "metadata": {
        "id": "SGaDeuidj2KV"
      },
      "execution_count": null,
      "outputs": []
    }
  ]
}